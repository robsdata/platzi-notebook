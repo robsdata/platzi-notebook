{
 "cells": [
  {
   "cell_type": "markdown",
   "metadata": {},
   "source": [
    "# **FUNCIONES, LAMBDAS, LIST COMPRENHENSION**\n",
    "---"
   ]
  },
  {
   "cell_type": "markdown",
   "metadata": {},
   "source": [
    "## **ZEN DE PYTHON**\n",
    "\n",
    "[ZEN DE PYTHON](https://elpythonista.com/zen-de-python)"
   ]
  },
  {
   "cell_type": "markdown",
   "metadata": {},
   "source": [
    "1 Bonito es mejor que feo\n",
    "2 Explícito es mejor que implícito\n",
    "3 Simple es mejor que complejo\n",
    "4 Complejo es mejor que complicado\n",
    "5 Plano es mejor que anidado\n",
    "6 Disperso es mejor que denso\n",
    "7 La legibilidad importa\n",
    "8 Los casos especiales no son lo suficientemente especiales para romper reglas\n",
    "9 Practicidad vence a la pureza\n",
    "10 Los errores nunca deberían de ocurrir silenciosamente\n",
    "11 A no ser que se silencien explícitamente\n",
    "12 En el caso de ambigüedad, rechaza la tentación de adivinar\n",
    "13 Debería de haber una – y preferiblemente sólo una – forma obvia de hacerlo\n",
    "14 Aunque la forma no parezca obvia a la primera, a no ser que seas Holandés\n",
    "15 Ahora es mejor que nunca\n",
    "16 Aunque nunca es a menudo mejor que ahora mismo\n",
    "17 Si la implementación es difícil de explicar, es una mala idea\n",
    "18 Si la implementación es fácil de explicar, es una buena idea\n",
    "19 Los espacios de nombres son una buena idea, ¡usemos más de ellos!"
   ]
  },
  {
   "cell_type": "markdown",
   "metadata": {},
   "source": [
    "## **SETS**\n",
    "\n",
    "* Se pueden modificar\n",
    "* No tienen un orden\n",
    "* No pueden tener elementos duplicados\n",
    "\n",
    "En Python, un conjunto es un tipo de dato incorporado que representa una colección desordenada de elementos únicos. Los conjuntos se utilizan comúnmente para tareas que implican verificar la unicidad o realizar operaciones de conjunto como unión, intersección y diferencia. Aquí tienes una descripción general de cómo funcionan los conjuntos en Python:\n",
    "\n",
    "1. **Creación de un conjunto**:\n",
    "   Puedes crear un conjunto al encerrar una secuencia de elementos separados por comas dentro de llaves `{}` o utilizando el constructor `set()`. Los elementos en un conjunto deben ser inmutables (por ejemplo, números, cadenas, tuplas), pero el conjunto en sí es mutable, lo que significa que puedes agregar o quitar elementos de él.\n",
    "\n",
    "   ```python\n",
    "   # Creación de un conjunto utilizando llaves {}\n",
    "   mi_conjunto = {1, 2, 3}\n",
    "\n",
    "   # Creación de un conjunto utilizando el constructor set()\n",
    "   otro_conjunto = set([4, 5, 6])\n",
    "   ```\n",
    "\n",
    "2. **Acceso a los elementos**:\n",
    "   Dado que los conjuntos no tienen orden, no puedes acceder a los elementos por índice. En su lugar, puedes verificar la presencia de un elemento utilizando el operador `in`.\n",
    "\n",
    "   ```python\n",
    "   if 1 in mi_conjunto:\n",
    "       print(\"1 está en el conjunto\")\n",
    "   ```\n",
    "\n",
    "3. **Agregar y eliminar elementos**:\n",
    "   Puedes agregar elementos a un conjunto utilizando el método `add()` y eliminar elementos utilizando el método `remove()`. Si deseas eliminar un elemento de manera segura (es decir, sin generar un error si el elemento no existe), puedes usar el método `discard()`.\n",
    "\n",
    "   ```python\n",
    "   mi_conjunto.add(4)\n",
    "   mi_conjunto.remove(3)\n",
    "   mi_conjunto.discard(2)  # Eliminar de forma segura el 2\n",
    "   ```\n",
    "\n",
    "4. **Operaciones de conjunto**:\n",
    "   Los conjuntos admiten varias operaciones de conjunto, como unión, intersección y diferencia mediante métodos o operadores.\n",
    "\n",
    "   - Unión: `union()` o `|`\n",
    "   - Intersección: `intersection()` o `&`\n",
    "   - Diferencia: `difference()` o `-`\n",
    "\n",
    "   ```python\n",
    "   conjunto1 = {1, 2, 3}\n",
    "   conjunto2 = {3, 4, 5}\n",
    "\n",
    "   conjunto_union = conjunto1.union(conjunto2)  # o conjunto1 | conjunto2\n",
    "   conjunto_interseccion = conjunto1.intersection(conjunto2)  # o conjunto1 & conjunto2\n",
    "   conjunto_diferencia = conjunto1.difference(conjunto2)  # o conjunto1 - conjunto2\n",
    "   ```\n",
    "\n",
    "5. **Métodos de conjunto**:\n",
    "   Los conjuntos tienen otros métodos útiles, como `clear()`, `copy()`, `len()`, `pop()` y `update()`.\n",
    "\n",
    "   ```python\n",
    "   mi_conjunto.clear()  # Elimina todos los elementos\n",
    "   copia_conjunto = mi_conjunto.copy()  # Crea una copia superficial\n",
    "   tamaño = len(mi_conjunto)  # Obtiene el número de elementos\n",
    "   elemento_extraído = mi_conjunto.pop()  # Elimina y devuelve un elemento arbitrario\n",
    "   mi_conjunto.update({7, 8, 9})  # Agrega varios elementos al conjunto\n",
    "   ```\n",
    "\n",
    "Los conjuntos se utilizan comúnmente para tareas como eliminar duplicados de una lista, verificar la membresía y realizar operaciones de conjunto en colecciones de datos. Son una estructura de datos versátil y eficiente para estos fines."
   ]
  },
  {
   "cell_type": "code",
   "execution_count": 67,
   "metadata": {},
   "outputs": [
    {
     "name": "stdout",
     "output_type": "stream",
     "text": [
      "{'MX', 'AR', 'COL', 'SV'}\n"
     ]
    },
    {
     "data": {
      "text/plain": [
       "set"
      ]
     },
     "execution_count": 67,
     "metadata": {},
     "output_type": "execute_result"
    }
   ],
   "source": [
    "\n",
    "setCountries = {'COL', 'SV', 'MX', 'AR'}\n",
    "\n",
    "print(setCountries)\n",
    "type(setCountries)"
   ]
  },
  {
   "cell_type": "code",
   "execution_count": 68,
   "metadata": {},
   "outputs": [
    {
     "name": "stdout",
     "output_type": "stream",
     "text": [
      "{'o', 'u', 'H', 'a', 'n', ' ', 'l', 'd', 'M'}\n"
     ]
    }
   ],
   "source": [
    "setFromString = set('Hola Mundo')\n",
    "print(setFromString)"
   ]
  },
  {
   "cell_type": "code",
   "execution_count": 69,
   "metadata": {},
   "outputs": [
    {
     "name": "stdout",
     "output_type": "stream",
     "text": [
      "{1, 2, 4, 6, 8}\n"
     ]
    },
    {
     "data": {
      "text/plain": [
       "set"
      ]
     },
     "execution_count": 69,
     "metadata": {},
     "output_type": "execute_result"
    }
   ],
   "source": [
    "exampleList = [1, 2, 2, 4, 6, 6, 6, 8] # list with duplicate values\n",
    "\n",
    "listToSet = set(exampleList)\n",
    "\n",
    "print(listToSet)\n",
    "type(listToSet)"
   ]
  },
  {
   "cell_type": "code",
   "execution_count": 70,
   "metadata": {},
   "outputs": [
    {
     "name": "stdout",
     "output_type": "stream",
     "text": [
      "[1, 2, 4, 6, 8]\n"
     ]
    },
    {
     "data": {
      "text/plain": [
       "list"
      ]
     },
     "execution_count": 70,
     "metadata": {},
     "output_type": "execute_result"
    }
   ],
   "source": [
    "setToList = list(listToSet) # Unique values list\n",
    "print(setToList)\n",
    "type(setToList)"
   ]
  },
  {
   "cell_type": "code",
   "execution_count": 71,
   "metadata": {},
   "outputs": [
    {
     "name": "stdout",
     "output_type": "stream",
     "text": [
      "4\n"
     ]
    }
   ],
   "source": [
    "setCountries = {'COL', 'SV', 'MX', 'AR'}\n",
    "\n",
    "size = len(setCountries)\n",
    "print(size)"
   ]
  },
  {
   "cell_type": "markdown",
   "metadata": {},
   "source": [
    "## **OPERACIONS CON CONJUNTOS**\n",
    "\n",
    "\n",
    "\n",
    "Los conjuntos en Python admiten una variedad de operaciones que pueden ser útiles cuando trabajas con colecciones de datos. Estas operaciones incluyen:\n",
    "\n",
    "1. **Unión de conjuntos**:\n",
    "   La unión de dos conjuntos crea un nuevo conjunto que contiene todos los elementos de ambos conjuntos sin duplicados.\n",
    "\n",
    "   ```python\n",
    "   conjunto1 = {1, 2, 3}\n",
    "   conjunto2 = {3, 4, 5}\n",
    "\n",
    "   union = conjunto1.union(conjunto2)  # También se puede hacer con el operador \"|\"\n",
    "   print(union)  # Resultado: {1, 2, 3, 4, 5}\n",
    "   ```\n",
    "\n",
    "2. **Intersección de conjuntos**:\n",
    "   La intersección de dos conjuntos crea un nuevo conjunto que contiene solo los elementos que están presentes en ambos conjuntos.\n",
    "\n",
    "   ```python\n",
    "   conjunto1 = {1, 2, 3}\n",
    "   conjunto2 = {3, 4, 5}\n",
    "\n",
    "   interseccion = conjunto1.intersection(conjunto2)  # También se puede hacer con el operador \"&\"\n",
    "   print(interseccion)  # Resultado: {3}\n",
    "   ```\n",
    "\n",
    "3. **Diferencia de conjuntos**:\n",
    "   La diferencia entre dos conjuntos crea un nuevo conjunto que contiene los elementos presentes en el primer conjunto pero no en el segundo conjunto.\n",
    "\n",
    "   ```python\n",
    "   conjunto1 = {1, 2, 3}\n",
    "   conjunto2 = {3, 4, 5}\n",
    "\n",
    "   diferencia = conjunto1.difference(conjunto2)  # También se puede hacer con el operador \"-\"\n",
    "   print(diferencia)  # Resultado: {1, 2}\n",
    "   ```\n",
    "\n",
    "4. **Diferencia simétrica**:\n",
    "   La diferencia simétrica entre dos conjuntos crea un nuevo conjunto que contiene los elementos que están en uno de los conjuntos, pero no en ambos.\n",
    "\n",
    "   ```python\n",
    "   conjunto1 = {1, 2, 3}\n",
    "   conjunto2 = {3, 4, 5}\n",
    "\n",
    "   diferencia_simetrica = conjunto1.symmetric_difference(conjunto2)\n",
    "   print(diferencia_simetrica)  # Resultado: {1, 2, 4, 5}\n",
    "   ```\n",
    "\n",
    "5. **Subconjunto y superconjunto**:\n",
    "   Puedes verificar si un conjunto es subconjunto o superconjunto de otro conjunto utilizando los métodos `issubset()` e `issuperset()`.\n",
    "\n",
    "   ```python\n",
    "   conjunto1 = {1, 2}\n",
    "   conjunto2 = {1, 2, 3, 4}\n",
    "\n",
    "   es_subconjunto = conjunto1.issubset(conjunto2)  # True\n",
    "   es_superconjunto = conjunto2.issuperset(conjunto1)  # True\n",
    "   ```\n",
    "\n",
    "6. **Disyunción de conjuntos**:\n",
    "   Puedes verificar si dos conjuntos son disjuntos (no tienen elementos en común) usando el método `isdisjoint()`.\n",
    "\n",
    "   ```python\n",
    "   conjunto1 = {1, 2}\n",
    "   conjunto2 = {3, 4}\n",
    "\n",
    "   son_disjuntos = conjunto1.isdisjoint(conjunto2)  # True\n",
    "   ```\n",
    "\n",
    "7. **Actualización de conjuntos**:\n",
    "   Puedes actualizar un conjunto agregando elementos de otro conjunto usando el método `update()` o el operador `|=`.\n",
    "\n",
    "   ```python\n",
    "   conjunto1 = {1, 2, 3}\n",
    "   conjunto2 = {3, 4, 5}\n",
    "\n",
    "   conjunto1.update(conjunto2)  # También se puede hacer con el operador \"|\"\n",
    "   print(conjunto1)  # Resultado: {1, 2, 3, 4, 5}\n",
    "   ```\n",
    "\n",
    "Estas operaciones de conjunto son muy útiles cuando necesitas comparar, combinar o manipular conjuntos de datos en Python."
   ]
  },
  {
   "cell_type": "code",
   "execution_count": 72,
   "metadata": {},
   "outputs": [
    {
     "name": "stdout",
     "output_type": "stream",
     "text": [
      "set()\n"
     ]
    }
   ],
   "source": [
    "#Elimina elementos duplicados usando conjuntos\n",
    "\n",
    "\n",
    "countries = {\"MX\", \"COL\", \"ARG\", \"USA\"}\n",
    "northAm = {\"USA\", \"CANADA\"}\n",
    "centralAm = {\"MX\", \"GT\", \"BZ\"}\n",
    "southAm = {\"COL\", \"BZ\", \"ARG\"}\n",
    "\n",
    "new_set = set()\n",
    "# Escribe tu solución 👇\n",
    "\n",
    "print(new_set)"
   ]
  },
  {
   "cell_type": "code",
   "execution_count": 73,
   "metadata": {},
   "outputs": [
    {
     "name": "stdout",
     "output_type": "stream",
     "text": [
      "{'CANADA', 'USA', 'ARG', 'GT', 'COL', 'MX', 'BZ'}\n"
     ]
    },
    {
     "data": {
      "text/plain": [
       "7"
      ]
     },
     "execution_count": 73,
     "metadata": {},
     "output_type": "execute_result"
    }
   ],
   "source": [
    "\n",
    "countries = {\"MX\", \"COL\", \"ARG\", \"USA\", \"CANADA\"}\n",
    "northAm = {\"USA\", \"CANADA\"}\n",
    "centralAm = {\"MX\", \"GT\", \"BZ\"}\n",
    "southAm = {\"COL\", \"BZ\", \"ARG\"}\n",
    "\n",
    "# Escribe tu solución 👇\n",
    "\n",
    "new_set = set(countries|northAm|centralAm|southAm)\n",
    "\n",
    "print(new_set)\n",
    "len(new_set)"
   ]
  },
  {
   "cell_type": "code",
   "execution_count": 74,
   "metadata": {},
   "outputs": [
    {
     "name": "stdout",
     "output_type": "stream",
     "text": [
      "{'BZ', 'CANADA', 'MX', 'USA', 'ARG', 'GT', 'COL'}\n"
     ]
    },
    {
     "data": {
      "text/plain": [
       "7"
      ]
     },
     "execution_count": 74,
     "metadata": {},
     "output_type": "execute_result"
    }
   ],
   "source": [
    "\n",
    "# Escribe tu solución 👇\n",
    "\n",
    "second_set = countries.union(northAm, centralAm, centralAm, southAm)\n",
    "\n",
    "print(second_set)\n",
    "len(second_set)"
   ]
  },
  {
   "cell_type": "code",
   "execution_count": 75,
   "metadata": {},
   "outputs": [
    {
     "name": "stdout",
     "output_type": "stream",
     "text": [
      "{'CANADA', 'USA'}\n",
      "{'MX', 'COL', 'ARG'}\n",
      "{'BZ', 'CANADA', 'USA', 'GT', 'ARG', 'COL'}\n",
      "True\n",
      "False\n",
      "True\n",
      "{'ING', 'CANADA', 'MX', 'USA', 'ARG', 'ESP', 'FRA', 'COL', 'ALE'}\n",
      "True\n"
     ]
    }
   ],
   "source": [
    "\n",
    "countries = {\"MX\", \"COL\", \"ARG\", \"USA\", \"CANADA\"}\n",
    "northAm = {\"USA\", \"CANADA\"}\n",
    "centralAm = {\"MX\", \"GT\", \"BZ\"}\n",
    "southAm = {\"COL\", \"BZ\", \"ARG\"}\n",
    "europa = {\"FRA\", \"ESP\", \"ALE\", \"ING\"}\n",
    "\n",
    "# Interseccion\n",
    "intersectionSet = countries.intersection(northAm)\n",
    "print(intersectionSet)\n",
    "\n",
    "# Diferencia\n",
    "differenceSet = countries.difference(northAm)\n",
    "print(differenceSet)\n",
    "\n",
    "# Diferencia simetrica\n",
    "symetricSet = countries.symmetric_difference(centralAm)\n",
    "print(symetricSet)\n",
    "\n",
    "# Superset\n",
    "supersetExample = countries.issuperset(northAm)\n",
    "print(supersetExample)\n",
    "\n",
    "# Subset\n",
    "subsetExample = southAm.issubset(countries)\n",
    "print(subsetExample)\n",
    "\n",
    "# Disjoint\n",
    "disjointSet = northAm.isdisjoint(europa)\n",
    "print(disjointSet)\n",
    "\n",
    "# Update\n",
    "europa.update(countries)  # Modifica el conjunto europa para incluir los elementos de countries\n",
    "updatedSet = europa  # updatedSet ahora contiene el conjunto europa actualizado\n",
    "\n",
    "\n",
    "print(europa)\n",
    "print(disjointSet)"
   ]
  },
  {
   "cell_type": "markdown",
   "metadata": {},
   "source": [
    "Entendiendo el Método `update` en Python\n",
    "\n",
    "El método `update` es una función importante en el lenguaje de programación Python que se utiliza con conjuntos (sets). Su función principal es agregar elementos de un iterable (como otro conjunto, lista, cadena, tupla, etc.) a un conjunto existente. Sin embargo, es importante tener en cuenta que el método `update` modifica el conjunto original y no devuelve un nuevo conjunto. En lugar de devolver un valor, retorna `None`.\n",
    "\n",
    "Cuando se utiliza el método `update` en un conjunto, se proporciona un iterable como argumento. Este iterable puede contener uno o varios elementos que se agregarán al conjunto original. El conjunto original se modifica directamente para incluir los elementos del iterable. Aquí hay un ejemplo de cómo se usa:\n",
    "\n",
    "```python\n",
    "conjunto = {1, 2, 3}\n",
    "iterable = [3, 4, 5]\n",
    "conjunto.update(iterable)\n",
    "```\n",
    "\n",
    "Después de esta operación, el conjunto `conjunto` se habrá modificado para contener `{1, 2, 3, 4, 5}`.\n",
    "\n",
    "**Valor de Retorno:**\n",
    "Es importante destacar que el método `update` no devuelve un nuevo conjunto. En lugar de eso, retorna `None`. Por lo tanto, si intentas asignar el resultado de `update` a una variable, esa variable contendrá `None`.\n",
    "\n",
    "**Ejemplo Práctico:**\n",
    "```python\n",
    "conjunto = {1, 2, 3}\n",
    "iterable = [3, 4, 5]\n",
    "resultado = conjunto.update(iterable)\n",
    "print(resultado)  # Esto imprimirá \"None\"\n",
    "```\n",
    "\n",
    "El método `update` es útil cuando necesitas agregar elementos de un iterable a un conjunto existente. Sin embargo, ten en cuenta que no devuelve un nuevo conjunto y modifica el conjunto original directamente. Por lo tanto, es importante utilizarlo con precaución y comprender su comportamiento para evitar errores en tu código."
   ]
  }
 ],
 "metadata": {
  "kernelspec": {
   "display_name": "Python 3",
   "language": "python",
   "name": "python3"
  },
  "language_info": {
   "codemirror_mode": {
    "name": "ipython",
    "version": 3
   },
   "file_extension": ".py",
   "mimetype": "text/x-python",
   "name": "python",
   "nbconvert_exporter": "python",
   "pygments_lexer": "ipython3",
   "version": "3.11.5"
  },
  "orig_nbformat": 4
 },
 "nbformat": 4,
 "nbformat_minor": 2
}
