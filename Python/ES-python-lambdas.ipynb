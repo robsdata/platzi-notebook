{
 "cells": [
  {
   "cell_type": "markdown",
   "metadata": {},
   "source": [
    "# **FUNCIONES, LAMBDAS, LIST COMPRENHENSION**\n",
    "---"
   ]
  },
  {
   "cell_type": "markdown",
   "metadata": {},
   "source": [
    "## **COMPRENHENSIONS**\n",
    "\n",
    "Las comprensiones (comprehensions) en Python son una forma concisa y elegante de crear nuevas listas, conjuntos o diccionarios utilizando una única línea de código. Las comprensiones permiten aplicar una expresión a cada elemento de una secuencia (como una lista o un rango) o a cada par clave-valor en un diccionario, y luego generar una nueva secuencia o diccionario con los resultados. Son una característica poderosa y eficiente que simplifica la escritura de código en Python. Hay tres tipos principales de comprensiones: comprensiones de lista (list comprehensions), comprensiones de conjunto (set comprehensions) y comprensiones de diccionario (dictionary comprehensions).\n",
    "\n",
    "**Comprensiones de Lista (List Comprehensions)**:\n",
    "Las comprensiones de lista se utilizan para crear nuevas listas aplicando una expresión a cada elemento de una secuencia existente (como una lista, tupla o rango). La sintaxis es la siguiente:\n",
    "\n",
    "```python\n",
    "nueva_lista = [expresion for elemento in secuencia if condicion]\n",
    "```\n",
    "\n",
    "Ejemplo:\n",
    "\n",
    "```python\n",
    "numeros = [1, 2, 3, 4, 5]\n",
    "cuadrados = [x**2 for x in numeros if x % 2 == 0]\n",
    "# Resultado: cuadrados = [4, 16]\n",
    "```\n",
    "\n",
    "**Comprensiones de Conjunto (Set Comprehensions)**:\n",
    "Las comprensiones de conjunto se utilizan para crear nuevos conjuntos de la misma manera que las comprensiones de lista, pero generan un conjunto sin elementos duplicados. La sintaxis es similar a la de las comprensiones de lista, pero se usan llaves `{}` en lugar de corchetes `[]`.\n",
    "\n",
    "```python\n",
    "nuevo_conjunto = {expresion for elemento in secuencia if condicion}\n",
    "```\n",
    "\n",
    "Ejemplo:\n",
    "\n",
    "```python\n",
    "numeros = [1, 2, 2, 3, 3, 4, 5]\n",
    "conjunto_unicos = {x for x in numeros}\n",
    "# Resultado: conjunto_unicos = {1, 2, 3, 4, 5}\n",
    "```\n",
    "\n",
    "**Comprensiones de Diccionario (Dictionary Comprehensions)**:\n",
    "Las comprensiones de diccionario se utilizan para crear nuevos diccionarios a partir de una secuencia de pares clave-valor. La sintaxis es la siguiente:\n",
    "\n",
    "```python\n",
    "nuevo_diccionario = {clave: valor for elemento in secuencia if condicion}\n",
    "```\n",
    "\n",
    "Ejemplo:\n",
    "\n",
    "```python\n",
    "frutas = [\"manzana\", \"banana\", \"naranja\"]\n",
    "longitudes = {fruta: len(fruta) for fruta in frutas}\n",
    "# Resultado: longitudes = {'manzana': 7, 'banana': 6, 'naranja': 7}\n",
    "```\n",
    "\n",
    "Las comprensiones en Python son una manera eficiente y legible de realizar operaciones de transformación y filtrado en colecciones de datos, y son ampliamente utilizadas en el desarrollo de aplicaciones Python."
   ]
  },
  {
   "cell_type": "code",
   "execution_count": null,
   "metadata": {},
   "outputs": [],
   "source": []
  },
  {
   "cell_type": "markdown",
   "metadata": {},
   "source": [
    "La \"Dictionary Comprehension\" (comprensión de diccionarios) es una característica en Python que te permite crear un diccionario de forma concisa y eficiente a partir de una expresión iterativa. Es similar a la \"List Comprehension\" (comprensión de listas) pero produce un diccionario en lugar de una lista. \n",
    "\n",
    "La sintaxis general de una \"Dictionary Comprehension\" es la siguiente:\n",
    "\n",
    "```python\n",
    "{clave: valor for elemento in iterable}\n",
    "```\n",
    "\n",
    "Donde:\n",
    "- `clave` es la expresión que define la clave para cada par clave-valor en el diccionario.\n",
    "- `valor` es la expresión que define el valor para cada par clave-valor en el diccionario.\n",
    "- `elemento` es una variable que toma cada valor del iterable.\n",
    "- `iterable` es la secuencia o colección de elementos a través de la cual se iterará.\n",
    "\n",
    "Aquí tienes un ejemplo simple de cómo usar una \"Dictionary Comprehension\" para crear un diccionario que contenga los cuadrados de los números del 1 al 5:\n",
    "\n",
    "```python\n",
    "cuadrados = {numero: numero ** 2 for numero in range(1, 6)}\n",
    "print(cuadrados)\n",
    "# Resultado: {1: 1, 2: 4, 3: 9, 4: 16, 5: 25}\n",
    "```\n",
    "\n",
    "En este ejemplo, estamos iterando a través de los números del 1 al 5, y para cada número, estamos creando un par clave-valor en el diccionario donde la clave es el número y el valor es el cuadrado del número.\n",
    "\n",
    "Puedes agregar condiciones a una \"Dictionary Comprehension\" para filtrar elementos o modificarlos según ciertas condiciones. Por ejemplo, aquí hay un ejemplo que crea un diccionario solo con los números pares del 1 al 10:\n",
    "\n",
    "```python\n",
    "numeros_pares = {numero: numero ** 2 for numero in range(1, 11) if numero % 2 == 0}\n",
    "print(numeros_pares)\n",
    "# Resultado: {2: 4, 4: 16, 6: 36, 8: 64, 10: 100}\n",
    "```\n",
    "\n",
    "La \"Dictionary Comprehension\" es una herramienta útil para crear diccionarios de manera eficiente y legible en Python, especialmente cuando necesitas transformar o filtrar datos de un iterable en un diccionario."
   ]
  },
  {
   "cell_type": "code",
   "execution_count": 76,
   "metadata": {},
   "outputs": [
    {
     "name": "stdout",
     "output_type": "stream",
     "text": [
      "{1: 'USA', 2: 'ALE', 3: 'MX', 4: 'MX'}\n",
      "{1: 'ARG', 2: 'ESP', 3: 'ING', 4: 'USA'}\n"
     ]
    }
   ],
   "source": [
    "import random\n",
    "\n",
    "countries = ['ING', 'CANADA', 'MX', 'USA', 'ARG', 'ESP', 'FRA', 'COL', 'ALE']\n",
    "\n",
    "population_in_millios = [18, 27, 68, 63, 23, 56, 24, 12]\n",
    "dict = {}\n",
    "\n",
    "for i in range(1, 5):\n",
    "    dict[i] = countries[random.randint(0, 8)]\n",
    "print(dict)\n",
    "\n",
    "dict_v2 = { i : countries[random.randint(0, 8)] for i in range(1, 5) }\n",
    "print(dict_v2)\n",
    "\n",
    "\n",
    "dict_v3 = { countries[j] : population_in_millios[j] for j in range(0, len(countries)-1)}\n"
   ]
  }
 ],
 "metadata": {
  "kernelspec": {
   "display_name": "Python 3",
   "language": "python",
   "name": "python3"
  },
  "language_info": {
   "codemirror_mode": {
    "name": "ipython",
    "version": 3
   },
   "file_extension": ".py",
   "mimetype": "text/x-python",
   "name": "python",
   "nbconvert_exporter": "python",
   "pygments_lexer": "ipython3",
   "version": "3.11.5"
  },
  "orig_nbformat": 4
 },
 "nbformat": 4,
 "nbformat_minor": 2
}
